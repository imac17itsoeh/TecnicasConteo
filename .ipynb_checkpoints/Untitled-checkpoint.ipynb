{
 "cells": [
  {
   "cell_type": "code",
   "execution_count": 1,
   "id": "dcdfd3f0-237b-4d01-8fac-39268bb975f3",
   "metadata": {},
   "outputs": [],
   "source": [
    "import math\n",
    "import Soto as v"
   ]
  },
  {
   "cell_type": "markdown",
   "id": "e9632a14-7059-416d-8301-d0141ac20613",
   "metadata": {},
   "source": [
    "# 9. Sólo para practicar.\n",
    "Los números telefónicos en la ciudad de Cuernavaca, Morelos, constan de siete dígitos.   \n",
    "\n",
    "a) ¿Cuántas líneas telefónicas pueden crearse en esa ciudad? Recuerda que no pueden comenzar con cero. \n",
    "\n",
    "b) Si los tres primeros dígitos representan una zona de Cuernavaca, ¿cuántas líneas telefónicas pertenecen a la zona 326?"
   ]
  },
  {
   "cell_type": "code",
   "execution_count": 2,
   "id": "e859f474-420e-44b1-97bc-88d4ac3b6056",
   "metadata": {
    "scrolled": true
   },
   "outputs": [
    {
     "name": "stdout",
     "output_type": "stream",
     "text": [
      "a) Total de líneas telefónicas en Cuernavaca: 9000000\n",
      "b) Total de líneas telefónicas en la zona 326: 10000\n"
     ]
    }
   ],
   "source": [
    "r = 9  # Opciones para el primer dígito (del 1 al 9)\n",
    "n = 10  # Opciones para los siguientes 6 dígitos (del 0 al 9)\n",
    "\n",
    "# Parte a) Calcular el total de líneas telefónicas en Cuernavaca\n",
    "total_lineas_cuernavaca = r * n ** 6\n",
    "print(\"a) Total de líneas telefónicas en Cuernavaca:\", total_lineas_cuernavaca)\n",
    "\n",
    "# Parte b) Calcular el número de líneas telefónicas en la zona 326\n",
    "opciones_ultimos_digitos = 10  # Opciones para los últimos 4 dígitos (del 0 al 9)\n",
    "total_lineas_zona_326 = opciones_ultimos_digitos ** 4\n",
    "print(\"b) Total de líneas telefónicas en la zona 326:\", total_lineas_zona_326)"
   ]
  },
  {
   "cell_type": "markdown",
   "id": "6e8478d0-1be8-4964-8e13-eb755fc6c56f",
   "metadata": {},
   "source": [
    "# 10.Sólo para practicar.\n",
    "Se tiene la palabra MURCIÉLAGO. Si no se permiten repeticiones al usar las letras que la forman, determina:  \n",
    "a) El número de palabras que puedes crear.  \n",
    "b) El número de palabras con cinco letras.  \n",
    "c) La probabilidad de que una palabra de cinco letras termine en vocal.  "
   ]
  },
  {
   "cell_type": "code",
   "execution_count": 3,
   "id": "4df4733d-b6a3-4cba-bda6-574ecec8221d",
   "metadata": {},
   "outputs": [
    {
     "name": "stdout",
     "output_type": "stream",
     "text": [
      "El número de palabras que se pueden crear es: 3628800\n",
      "El número de palabras con cinco letras es: 30240\n",
      "La probabilidad de que una palabra de cinco letras termine en vocal es: 0.004166666666666667%\n"
     ]
    }
   ],
   "source": [
    "import math\n",
    "\n",
    "# Definir la palabra P\n",
    "P = \"MURCIÉLAGO\"\n",
    "\n",
    "# Convertir P a un conjunto para obtener letras únicas\n",
    "letras_unicas = set(P)\n",
    "\n",
    "# Calculando el número de permutaciones sin repetición de las letras únicas en P\n",
    "num_permutaciones = math.factorial(len(letras_unicas))\n",
    "\n",
    "# Calculando el número de permutaciones de 5 letras de las letras únicas en P\n",
    "if len(letras_unicas) >= 5:\n",
    "    num_permutaciones_cinco_letras = math.factorial(len(letras_unicas)) // math.factorial(len(letras_unicas) - 5)\n",
    "else:\n",
    "    num_permutaciones_cinco_letras = 0  # Si hay menos de 5 letras únicas, no se pueden formar palabras de 5 letras\n",
    "\n",
    "# Calculando el número de palabras de 5 letras que terminan en vocal\n",
    "if len(letras_unicas) >= 5:\n",
    "    num_palabras_vocal = math.factorial(len(letras_unicas) - 1) // math.factorial(len(letras_unicas) - 5)\n",
    "else:\n",
    "    num_palabras_vocal = 0\n",
    "\n",
    "# Probabilidad de que una palabra de cinco letras termine en vocal\n",
    "probabilidad = 15120/3628800\n",
    "\n",
    "# Imprimir los resultados\n",
    "print(f\"El número de palabras que se pueden crear es: {num_permutaciones}\")\n",
    "print(f\"El número de palabras con cinco letras es: {num_permutaciones_cinco_letras}\")\n",
    "print(f\"La probabilidad de que una palabra de cinco letras termine en vocal es: {probabilidad}%\")"
   ]
  },
  {
   "cell_type": "code",
   "execution_count": null,
   "id": "22fb674d-c3b0-4ba9-b1b6-c422d01392cb",
   "metadata": {},
   "outputs": [],
   "source": []
  },
  {
   "cell_type": "markdown",
   "id": "7c978c36-7299-4bce-9f53-fcc6694cc469",
   "metadata": {},
   "source": [
    "# 11. Parque vehicular. \n",
    "La Ciudad de México tiene placas de automóviles con tres números seguidos por tres letras, es decir, son placas del tipo 999-AAA. Sin embargo, no pueden empezar con 0\n",
    "(cero) ni se utilizan las letras I, O, Q y Ñ.  \n",
    "a) ¿Cuántas placas diferentes son posibles?  \n",
    "b) ¿Cuántas placas diferentes terminan en vocal?  \n",
    "c) ¿Cuál es la probabilidad de que una placa, elegida al azar, sea impar?  "
   ]
  },
  {
   "cell_type": "code",
   "execution_count": 14,
   "id": "975b1cf3-8c9b-4c8f-b130-ed453ba302bb",
   "metadata": {},
   "outputs": [
    {
     "name": "stdout",
     "output_type": "stream",
     "text": [
      "Placas diferentes posibles: 10950300\n",
      "Placas que terminan en vocal: 1428300\n",
      "Placas que son impares: 5475150\n",
      "Probabilidad de que una placa, elegida al azar, sea impar: 0.5\n"
     ]
    }
   ],
   "source": [
    "primer_dig = 9 \n",
    "otros_dig = 10  \n",
    "\n",
    "\n",
    "numero_op_digitos = primer_dig * otros_dig * otros_dig\n",
    "\n",
    "\n",
    "num_letras=23\n",
    "\n",
    "\n",
    "num_op_letras = num_letras ** 3\n",
    "\n",
    "\n",
    "total_placas = numero_op_digitos * num_op_letras\n",
    "\n",
    "\n",
    "num_vocales = 3  \n",
    "placas_terminan_vocal = numero_op_digitos * (num_letras * num_letras * num_vocales)\n",
    "\n",
    "\n",
    "num_digitos_impares = 5\n",
    "placas_impares = (primer_dig * otros_dig) * num_digitos_impares * num_op_letras\n",
    "\n",
    "\n",
    "probabilidad_impar = placas_impares / total_placas\n",
    "\n",
    "# Resultados\n",
    "print(\"Placas diferentes posibles:\", total_placas)\n",
    "print(\"Placas que terminan en vocal:\", placas_terminan_vocal)\n",
    "print(\"Probabilidad de que una placa, elegida al azar, sea impar:\", probabilidad_impar)\n",
    "\n"
   ]
  },
  {
   "cell_type": "markdown",
   "id": "1fdb13b6-ebe9-400d-b261-8e3586de5ff6",
   "metadata": {},
   "source": [
    "# 12. Servicios restauranteros.\n",
    "Una cadena de hamburguesas anuncia que se ofrecen 512 maneras de pedir una hamburguesa. Un cliente puede elegir cualquiera de estos ingredientes: cátsup, mos-\n",
    "taza, mayonesa, aderezo de la casa, cebolla, pepinillos, jitomate, tocino y lechuga. ¿Crees que lo que afirma la empresa sea cierto? Justifica tu respuesta."
   ]
  },
  {
   "cell_type": "code",
   "execution_count": 5,
   "id": "6d2fccc1-592a-429f-939d-daac243bae25",
   "metadata": {},
   "outputs": [
    {
     "name": "stdout",
     "output_type": "stream",
     "text": [
      "Total de formas posibles: 512\n",
      "La afirmación de la empresa es correcta.\n"
     ]
    }
   ],
   "source": [
    "# Maneras posibles de ordenar una hamburguesa\n",
    "total_for = 2 ** 9  # 2 elevado a la potencia de 9 (ya que hay 9 ingredientes)\n",
    "print(\"Total de formas posibles:\", total_for)\n",
    "\n",
    "\n",
    "afir_empresa = 512\n",
    "\n",
    "if total_for == afir_empresa:\n",
    "    print(\"La afirmación de la empresa es correcta.\")\n",
    "else:\n",
    "    print(\"La afirmación de la empresa NO es correcta.\")"
   ]
  },
  {
   "cell_type": "markdown",
   "id": "723acf1c-1b2e-427b-9bd0-ab070f7c2973",
   "metadata": {},
   "source": [
    "# 13. Cultura.\n",
    "Una persona tiene un libro de cada uno de los autores siguientes: Mario Vargas Llosa, Alberto Ruy Sánchez, Gabriel García Márquez, Günther Grass, Patrick Süskind, Heinrich Böll, Arturo Pérez-Reverte y Camilo José Cela. Como aún no los ha leído, quiere ponerlos en una repisa cerca de su cama. De acuerdo con esto, determina:   \n",
    "a) ¿De cuántas formas puede acomodar los libros sobre la repisa?  \n",
    "b) ¿De cuántas maneras puede ordenarlos si quiere que los libros de autores latinoamericanos estén juntos?  \n",
    "c) ¿De cuántas formas puede acomodarlos, si los autores latinoamericanos deben estar juntos, así como los autores alemanes y los españoles también?  \n",
    "d) Determina las probabilidades correspondientes a los incisos (b) y (c).  "
   ]
  },
  {
   "cell_type": "code",
   "execution_count": 6,
   "id": "456906df-6869-4729-8795-642f13aba3f7",
   "metadata": {},
   "outputs": [
    {
     "name": "stdout",
     "output_type": "stream",
     "text": [
      "a)  40320\n",
      "b)  4320\n",
      "c)  432\n",
      "d) Probabilidad (b) 0.10714285714285714\n",
      "d) Probabilidad (c) 0.010714285714285714\n"
     ]
    }
   ],
   "source": [
    "import math as p\n",
    "# a) ¿De cuántas formas puede acomodar los libros sobre la repisa?\n",
    "a = p.factorial(8)\n",
    "# b) ¿De cuántas maneras puede ordenarlos si quiere que los libros de autores latinoamericanos estén juntos?               \n",
    "b = p.factorial(6) * p.factorial(3)\n",
    "#c) ¿De cuántas formas puede acomodarlos, si los autores latinoamericanos deben estar juntos, así como los autores alemanes y los españoles también?\n",
    "c = p.factorial(3) * (p.factorial(3) * p.factorial(2) * p.factorial(3))\n",
    "# d)\n",
    "d1 = b / a\n",
    "d2 = c / a\n",
    "\n",
    "# Imprimir \n",
    "print(\"a) \", a)\n",
    "\n",
    "print(\"b) \",b)\n",
    "\n",
    "print(\"c) \", c)\n",
    "\n",
    "print(\"d) Probabilidad (b)\", d1)\n",
    "\n",
    "print(\"d) Probabilidad (c)\", d2)"
   ]
  },
  {
   "cell_type": "markdown",
   "id": "a28443a0-d6fd-4d09-ba39-2a1f1b9a965a",
   "metadata": {},
   "source": [
    "# 14. Finanzas. \n",
    "Se va a formar un portafolio de inversión de cuatro instrumentos financieros a partir de cinco de renta fija y seis de renta variable. ¿De cuántas maneras podría formarse el portafolio si:  \n",
    "a) No hay restricciones?  \n",
    "b) Debe haber dos instrumentos de renta fija y dos de renta variable?  \n",
    "c) No debe haber ningún instrumento de renta fija?  \n",
    "d) Debe haber tres instrumentos de renta fija?  \n",
    "e) Calcula las probabilidades para los incisos anteriores.  "
   ]
  },
  {
   "cell_type": "code",
   "execution_count": 7,
   "id": "789d51f9-b033-4767-965c-ba1b76b920f2",
   "metadata": {},
   "outputs": [
    {
     "name": "stdout",
     "output_type": "stream",
     "text": [
      "a) Total de maneras posibles: 330\n",
      "b) Total de maneras posibles: 150\n",
      "c) Total de maneras posibles: 15\n",
      "d) Total de maneras posibles: 60\n",
      "\n",
      "Probabilidades:\n",
      "a) Probabilidad: 1.0\n",
      "b) Probabilidad: 0.45454545454545453\n",
      "c) Probabilidad: 0.045454545454545456\n",
      "d) Probabilidad: 0.18181818181818182\n"
     ]
    }
   ],
   "source": [
    "n = 11\n",
    "\n",
    "from itertools import permutations, combinations\n",
    " \n",
    "\n",
    "# Definir variables\n",
    "n_renta_fija = 5\n",
    "n_renta_variable = 6\n",
    "n_total = n_renta_fija + n_renta_variable\n",
    "\n",
    "# Función para calcular factorial (opcional, para probabilidades)\n",
    "def factorial(n):\n",
    "    if n == 0 or n == 1:\n",
    "        return 1\n",
    "    else:\n",
    "        return n * factorial(n - 1)\n",
    "\n",
    "# Función para calcular combinaciones C(n, k)\n",
    "def combinacion(n, k):\n",
    "    return factorial(n) // (factorial(k) * factorial(n - k))\n",
    "\n",
    "# Función para calcular permutaciones P(n, k)\n",
    "def permutacion(n, k):\n",
    "    return factorial(n) // factorial(n - k)\n",
    "\n",
    "# a) No hay restricciones\n",
    "total_formas_a = combinacion(n_total, 4)\n",
    "print(\"a) Total de maneras posibles:\", total_formas_a)\n",
    "\n",
    "# b) Debe haber dos instrumentos de renta fija y dos de renta variable\n",
    "formas_renta_fija = combinacion(n_renta_fija, 2)\n",
    "formas_renta_variable = combinacion(n_renta_variable, 2)\n",
    "total_formas_b = formas_renta_fija * formas_renta_variable\n",
    "print(\"b) Total de maneras posibles:\", total_formas_b)\n",
    "\n",
    "# c) No debe haber ningún instrumento de renta fija\n",
    "total_formas_c = combinacion(n_renta_variable, 4)\n",
    "print(\"c) Total de maneras posibles:\", total_formas_c)\n",
    "\n",
    "# d) Debe haber tres instrumentos de renta fija\n",
    "formas_renta_fija_d = combinacion(n_renta_fija, 3)\n",
    "formas_renta_variable_d = combinacion(n_renta_variable, 1)\n",
    "total_formas_d = formas_renta_fija_d * formas_renta_variable_d\n",
    "print(\"d) Total de maneras posibles:\", total_formas_d)\n",
    "\n",
    "# Probabilidades\n",
    "probabilidad_a = total_formas_a / combinacion(n_total, 4)\n",
    "probabilidad_b = total_formas_b / combinacion(n_total, 4)\n",
    "probabilidad_c = total_formas_c / combinacion(n_total, 4)\n",
    "probabilidad_d = total_formas_d / combinacion(n_total, 4)\n",
    "\n",
    "print(\"\\nProbabilidades:\")\n",
    "print(\"a) Probabilidad:\", probabilidad_a)\n",
    "print(\"b) Probabilidad:\", probabilidad_b)\n",
    "print(\"c) Probabilidad:\", probabilidad_c)\n",
    "print(\"d) Probabilidad:\", probabilidad_d)"
   ]
  },
  {
   "cell_type": "markdown",
   "id": "24c8c222-6875-4868-bf52-33a81b0954b0",
   "metadata": {},
   "source": [
    "# 15. Futbol. \n",
    "Tres parejas (tres hombres y tres mujeres) compran boletos para ir a un partido de los Pumas. Cuando llegan al estadio de Ciudad Universitaria les surge la duda de cómo sentarse en la fila. ¿De cuántas maneras pueden hacerlo si:  \n",
    "a) No hay restricciones? 720  \n",
    "b) Los hombres deben sentarse juntos? 144   \n",
    "c) Deben sentarse por parejas? 48    \n",
    "d) ¿Cuál es la probabilidad de cada uno de los eventos descritos en los incisos anteriores?  b).- 0.2  y  c).-0.066  "
   ]
  },
  {
   "cell_type": "code",
   "execution_count": 8,
   "id": "2fc3566f-d51e-4232-a7a6-c84da8494ef1",
   "metadata": {},
   "outputs": [
    {
     "name": "stdout",
     "output_type": "stream",
     "text": [
      "a) No hay restricciones 720\n",
      "b) Los hombres deben sentarse juntos:  144\n",
      "c) Deben sentarse por parejas:  48\n",
      "d) ¿Cuál es la probabilidad de cada uno de los eventos descritos en los incisos anteriores?\n",
      "Inciso b 0.2\n",
      "Inciso c  0.06666666666666667\n"
     ]
    }
   ],
   "source": [
    "# a) No hay restricciones?  \n",
    "a=math.factorial(6)\n",
    "print(\"a) No hay restricciones\",a)\n",
    "# b) Los hombres deben sentarse juntos?  \n",
    "b=math.factorial(4)* math.factorial(3)\n",
    "print(\"b) Los hombres deben sentarse juntos: \",b)\n",
    "# c) Deben sentarse por parejas?  \n",
    "c=math.factorial(3)*2*2*2\n",
    "print(\"c) Deben sentarse por parejas: \",c)\n",
    "# d) ¿Cuál es la probabilidad de cada uno de los eventos descritos en los incisos anteriores? \n",
    "d1=b/a\n",
    "d2=c/a\n",
    "print(\"d) ¿Cuál es la probabilidad de cada uno de los eventos descritos en los incisos anteriores?\")\n",
    "print(\"Inciso b\", d1)\n",
    "print(\"Inciso c \",d2)"
   ]
  },
  {
   "cell_type": "markdown",
   "id": "59a642c4-6802-43d6-8186-78d5adc925d0",
   "metadata": {},
   "source": [
    "# 16. Trabajo en equipo.\n",
    "En un grupo de 25 alumnos hay 13 chicas y 12 chicos. Se desean formar ,equipos de trabajo para realizar una investigación:  \n",
    "a) ¿Cuántos equipos de cinco personas pueden formarse? 53130\n",
    "b) ¿Cuántos equipos pueden formarse si debe haber una chica? 6435  \n",
    "c) ¿Cuántos equipos pueden formarse si debe haber dos chicas? 17160 \n",
    "d) Determina las probabilidades correspondientes a los incisos anteriores: b).-0.12 y c).-0.32"
   ]
  },
  {
   "cell_type": "code",
   "execution_count": 9,
   "id": "dda76a4a-ef5b-466f-9665-13a58b4d0f6f",
   "metadata": {},
   "outputs": [
    {
     "name": "stdout",
     "output_type": "stream",
     "text": [
      " a) ¿Cuántos equipos de cinco personas pueden formarse? 53130.0\n",
      "b) ¿Cuántos equipos pueden formarse si debe haber una chica? 6435.0\n",
      "c) ¿Cuántos equipos pueden formarse si debe haber dos chicas?  17160.0\n",
      "d) Determina las probabilidades correspondientes a los incisos anteriores\n",
      "Inciso b  0.12111801242236025\n",
      "Inciso c  0.32298136645962733\n"
     ]
    }
   ],
   "source": [
    "# a) ¿Cuántos equipos de cinco personas pueden formarse?\n",
    "a=math.factorial(25)/ (math.factorial(5)* math.factorial(25-5))\n",
    "print(\" a) ¿Cuántos equipos de cinco personas pueden formarse?\",a)\n",
    "# b) ¿Cuántos equipos pueden formarse si debe haber una chica?\n",
    "b=(math.factorial(13)/ (math.factorial(1)* math.factorial(13-1)))*(math.factorial(12)/ (math.factorial(4)* math.factorial(12-4)))\n",
    "print(\"b) ¿Cuántos equipos pueden formarse si debe haber una chica?\",b)\n",
    "# c) ¿Cuántos equipos pueden formarse si debe haber dos chicas?\n",
    "c=(math.factorial(13)/ (math.factorial(2)* math.factorial(13-2)))*(math.factorial(12)/ (math.factorial(3)* math.factorial(12-3)))\n",
    "print(\"c) ¿Cuántos equipos pueden formarse si debe haber dos chicas? \",c)\n",
    "# d) Determina las probabilidades correspondientes a los incisos anteriores.\n",
    "print(\"d) Determina las probabilidades correspondientes a los incisos anteriores\")\n",
    "d1=b/a\n",
    "d2=c/a\n",
    "print(\"Inciso b \",d1)\n",
    "print(\"Inciso c \",d2)"
   ]
  },
  {
   "cell_type": "markdown",
   "id": "0af00076-7269-4469-b0dc-e280e56397ee",
   "metadata": {},
   "source": [
    "# 17. Control de calidad.\n",
    "Se tiene una caja con 24 latas y se sabe que dos están contaminadas. Se van a seleccionar tres latas al azar para someterlas a una prueba de control de calidad, es decir, para medir los estándares de calidad de la empresa.  \n",
    "a) ¿Cuántas combinaciones de tres latas pueden hacerse?  \n",
    "b) ¿Cuál es la probabilidad de que se seleccione una lata contaminada para la prueba?  \n",
    "c) ¿Cuál es la probabilidad de que se seleccione al menos una lata contaminada para la prueba?  \n",
    "d) ¿Y la probabilidad de que no se elijan latas contaminadas para la prueba?  "
   ]
  },
  {
   "cell_type": "code",
   "execution_count": 10,
   "id": "7ad600f1-15c6-45c6-b916-036a04228a68",
   "metadata": {},
   "outputs": [
    {
     "name": "stdout",
     "output_type": "stream",
     "text": [
      "a) ¿Cuántas combinaciones de tres latas pueden hacerse? 2024\n",
      "b) ¿Cuál es la probabilidad de que se seleccione una lata contaminada para la prueba? 0.22826086956521738\n",
      "c) ¿Cuál es la probabilidad de que se seleccione al menos una lata contaminada para la prueba? 0.23913043478260868\n",
      "d) ¿Y la probabilidad de que no se elijan latas contaminadas para la prueba? 0.7608695652173914\n"
     ]
    }
   ],
   "source": [
    "# a) ¿Cuántas combinaciones de tres latas pueden hacerse?\n",
    "n, k= 24, 3\n",
    "a = v.combinaciones(n, k)\n",
    "print(\"a) ¿Cuántas combinaciones de tres latas pueden hacerse?\",a)\n",
    "\n",
    "# b) ¿Cuál es la probabilidad de que se seleccione una lata contaminada para la prueba?\n",
    "b = v.combinaciones(22, 2) * v.combinaciones(2, 1)\n",
    "pB = b / a\n",
    "print(\"b) ¿Cuál es la probabilidad de que se seleccione una lata contaminada para la prueba?\",pB)\n",
    "\n",
    "\n",
    "# c) ¿Cuál es la probabilidad de que se seleccione al menos una lata contaminada para la prueba?\n",
    "c = v.combinaciones(22, 1) * v.combinaciones(2, 2)\n",
    "pC = (c / a)\n",
    "print(\"c) ¿Cuál es la probabilidad de que se seleccione al menos una lata contaminada para la prueba?\",pC+pB)\n",
    "\n",
    "# d) ¿Y la probabilidad de que no se elijan latas contaminadas para la prueba?\n",
    "d = v.combinaciones(22, 3) * v.combinaciones(2, 0)\n",
    "pD = d / a\n",
    "print(\"d) ¿Y la probabilidad de que no se elijan latas contaminadas para la prueba?\",pD)"
   ]
  },
  {
   "cell_type": "code",
   "execution_count": null,
   "id": "12ca0d57-3ee0-4802-8ef3-0a20f0847178",
   "metadata": {},
   "outputs": [],
   "source": []
  }
 ],
 "metadata": {
  "kernelspec": {
   "display_name": "Python 3 (ipykernel)",
   "language": "python",
   "name": "python3"
  },
  "language_info": {
   "codemirror_mode": {
    "name": "ipython",
    "version": 3
   },
   "file_extension": ".py",
   "mimetype": "text/x-python",
   "name": "python",
   "nbconvert_exporter": "python",
   "pygments_lexer": "ipython3",
   "version": "3.11.4"
  }
 },
 "nbformat": 4,
 "nbformat_minor": 5
}
